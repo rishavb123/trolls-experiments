{
 "cells": [
  {
   "cell_type": "markdown",
   "metadata": {},
   "source": [
    "# Model Architecture Point of Interest Experiments"
   ]
  },
  {
   "cell_type": "markdown",
   "metadata": {},
   "source": [
    "Initial setup:"
   ]
  },
  {
   "cell_type": "code",
   "execution_count": 2,
   "metadata": {},
   "outputs": [],
   "source": [
    "import os\n",
    "\n",
    "import numpy as np\n",
    "import tensorflow as tf\n",
    "\n",
    "from matplotlib import pyplot as plt"
   ]
  },
  {
   "cell_type": "code",
   "execution_count": 3,
   "metadata": {},
   "outputs": [],
   "source": [
    "from constants import RETRAIN_MODEL\n",
    "from data import get_dataset\n",
    "from information_gain import calculate_information_gains\n",
    "from model_structures import ModelClasses, CNNModel\n",
    "from trainer import train_model, make_model\n"
   ]
  },
  {
   "cell_type": "code",
   "execution_count": 4,
   "metadata": {},
   "outputs": [],
   "source": [
    "def init():\n",
    "    print(f'TensorFlow version: {tf.__version__}')\n",
    "    tf.config.run_functions_eagerly(True)"
   ]
  },
  {
   "cell_type": "code",
   "execution_count": 5,
   "metadata": {},
   "outputs": [
    {
     "name": "stdout",
     "output_type": "stream",
     "text": [
      "TensorFlow version: 2.11.0\n"
     ]
    }
   ],
   "source": [
    "init()"
   ]
  },
  {
   "cell_type": "code",
   "execution_count": 6,
   "metadata": {},
   "outputs": [],
   "source": [
    "train_ds, test_ds = get_dataset()"
   ]
  },
  {
   "cell_type": "code",
   "execution_count": 7,
   "metadata": {},
   "outputs": [],
   "source": [
    "def get_trained_model(model_cls):\n",
    "    model, trained = make_model(model_cls)\n",
    "    if RETRAIN_MODEL or not trained:\n",
    "        train_model(model, train_ds, test_ds)\n",
    "    return model"
   ]
  },
  {
   "cell_type": "code",
   "execution_count": 8,
   "metadata": {},
   "outputs": [
    {
     "name": "stdout",
     "output_type": "stream",
     "text": [
      "File for cnnmodel already exists\n",
      "File for cnnmodel2 already exists\n",
      "File for densemodel already exists\n"
     ]
    }
   ],
   "source": [
    "for model_cls in ModelClasses:\n",
    "    if not os.path.isfile(f'./data/{model_cls.__name__.lower()}_info_gain_matrix.npy'):\n",
    "        print(f'Running {model_cls.__name__.lower()}')\n",
    "        model = get_trained_model(model_cls)\n",
    "        info_gain_matrix = calculate_information_gains(model, test_ds)\n",
    "        with open(f'./data/{model_cls.__name__.lower()}_info_gain_matrix.npy', 'wb') as f:\n",
    "            np.save(f, info_gain_matrix)\n",
    "    else:\n",
    "        print(f'File for {model_cls.__name__.lower()} already exists')"
   ]
  },
  {
   "cell_type": "code",
   "execution_count": 9,
   "metadata": {},
   "outputs": [],
   "source": [
    "def load_info_gain_matrix(model_cls):\n",
    "    return np.load(f'./data/{model_cls.__name__.lower()}_info_gain_matrix.npy')\n",
    "\n",
    "info_gain_matricies = [load_info_gain_matrix(model_cls) for model_cls in ModelClasses]"
   ]
  },
  {
   "cell_type": "code",
   "execution_count": 17,
   "metadata": {},
   "outputs": [
    {
     "name": "stdout",
     "output_type": "stream",
     "text": [
      "Information Gain Saliency Maps\n"
     ]
    },
    {
     "data": {
      "image/png": "[encoded data removed]",
      "text/plain": [
       "<Figure size 1000x1000 with 3 Axes>"
      ]
     },
     "metadata": {},
     "output_type": "display_data"
    }
   ],
   "source": [
    "fig, axes = plt.subplots(1, len(ModelClasses), figsize=(10, 10))\n",
    "\n",
    "for i in range(len(ModelClasses)):\n",
    "    axes[i].imshow(info_gain_matricies[i])\n",
    "    axes[i].set_title(f'{ModelClasses[i].__name__.lower()}')\n",
    "    axes[i].set_xlabel('New Labels')\n",
    "    axes[i].set_ylabel('Ground Truth')\n",
    "\n",
    "print('Information Gain Saliency Maps')"
   ]
  }
 ],
 "metadata": {
  "kernelspec": {
   "display_name": "Python 3.10.8",
   "language": "python",
   "name": "python3"
  },
  "language_info": {
   "codemirror_mode": {
    "name": "ipython",
    "version": 3
   },
   "file_extension": ".py",
   "mimetype": "text/x-python",
   "name": "python",
   "nbconvert_exporter": "python",
   "pygments_lexer": "ipython3",
   "version": "3.10.8"
  },
  "orig_nbformat": 4,
  "vscode": {
   "interpreter": {
    "hash": "cdadc40baac9b5fa18dc5d8e629bc4e4f6514f5013bdf6233fdd5412d311a06d"
   }
  }
 },
 "nbformat": 4,
 "nbformat_minor": 2
}
